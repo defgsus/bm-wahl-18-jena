{
 "cells": [
  {
   "cell_type": "markdown",
   "metadata": {},
   "source": [
    "# Ergebnisse der Wahl zum Oberbürgermeister, Jena, 2018\n",
    "\n",
    "Jena hat jetzt einen FDP-Bürgermeister und alles wird besser. \n",
    "\n",
    "### erster Wahlgang\n",
    "![img/bm01-offiziell.png](img/bm01-offiziell.png)\n",
    "\n",
    "### Stichwahl\n",
    "![img/bm02-offiziell.png](img/bm02-offiziell.png)\n",
    "\n",
    "Die Ergebnisse und Bilder stammen von der sogenannten [*\"Statistikseite\"*](http://statistiken.jena.de) der Stadt Jena.\n",
    "\n",
    "Mal sehen, ob es rechnerisch möglich ist, Hinweise auf den Sinneswandel der Bürger zu erhalten.\n",
    "\n",
    "Die Zahlen pro Wahlkreis sind [GEOJSON](http://geojson.org) kodiert. Ein Python-Skript hohlt die Daten aus dem Netz und konvertiert das json-Zeug in einen [pandas DataFrame](https://pandas.pydata.org/pandas-docs/stable/generated/pandas.DataFrame.html)."
   ]
  },
  {
   "cell_type": "code",
   "execution_count": 1,
   "metadata": {},
   "outputs": [],
   "source": [
    "from collections import OrderedDict\n",
    "import math\n",
    "import pandas as pd\n",
    "import numpy as np\n",
    "from data import *"
   ]
  },
  {
   "cell_type": "markdown",
   "metadata": {},
   "source": [
    "Hier wird die Tabelle des ersten Wahlgangs geladen:"
   ]
  },
  {
   "cell_type": "code",
   "execution_count": 2,
   "metadata": {},
   "outputs": [
    {
     "data": {
      "text/html": [
       "<div>\n",
       "<style scoped>\n",
       "    .dataframe tbody tr th:only-of-type {\n",
       "        vertical-align: middle;\n",
       "    }\n",
       "\n",
       "    .dataframe tbody tr th {\n",
       "        vertical-align: top;\n",
       "    }\n",
       "\n",
       "    .dataframe thead th {\n",
       "        text-align: right;\n",
       "    }\n",
       "</style>\n",
       "<table border=\"1\" class=\"dataframe\">\n",
       "  <thead>\n",
       "    <tr style=\"text-align: right;\">\n",
       "      <th></th>\n",
       "      <th>Wahlberechtigte</th>\n",
       "      <th>Wähler</th>\n",
       "      <th>ungültige Stimmen</th>\n",
       "      <th>gültige Stimmen</th>\n",
       "      <th>Benjamin Koppe</th>\n",
       "      <th>Martina Flämmich-Winckler</th>\n",
       "      <th>Dr. Albrecht Schröter</th>\n",
       "      <th>Denny Jankowski</th>\n",
       "      <th>Denis Peisker</th>\n",
       "      <th>Dr. Thomas Nitzsche</th>\n",
       "      <th>Dr. Heidrun Jänchen</th>\n",
       "      <th>Sandro Dreßler</th>\n",
       "      <th>Arne Petrich</th>\n",
       "    </tr>\n",
       "    <tr>\n",
       "      <th>Bezirk</th>\n",
       "      <th></th>\n",
       "      <th></th>\n",
       "      <th></th>\n",
       "      <th></th>\n",
       "      <th></th>\n",
       "      <th></th>\n",
       "      <th></th>\n",
       "      <th></th>\n",
       "      <th></th>\n",
       "      <th></th>\n",
       "      <th></th>\n",
       "      <th></th>\n",
       "      <th></th>\n",
       "    </tr>\n",
       "  </thead>\n",
       "  <tbody>\n",
       "    <tr>\n",
       "      <th>001 Dezernat Stadtentwicklung</th>\n",
       "      <td>1685</td>\n",
       "      <td>615</td>\n",
       "      <td>5</td>\n",
       "      <td>610</td>\n",
       "      <td>78</td>\n",
       "      <td>112</td>\n",
       "      <td>157</td>\n",
       "      <td>26</td>\n",
       "      <td>81</td>\n",
       "      <td>86</td>\n",
       "      <td>56</td>\n",
       "      <td>7</td>\n",
       "      <td>7</td>\n",
       "    </tr>\n",
       "    <tr>\n",
       "      <th>002 WE Catering / Raum OG</th>\n",
       "      <td>1144</td>\n",
       "      <td>540</td>\n",
       "      <td>3</td>\n",
       "      <td>537</td>\n",
       "      <td>66</td>\n",
       "      <td>73</td>\n",
       "      <td>182</td>\n",
       "      <td>19</td>\n",
       "      <td>73</td>\n",
       "      <td>88</td>\n",
       "      <td>29</td>\n",
       "      <td>5</td>\n",
       "      <td>2</td>\n",
       "    </tr>\n",
       "    <tr>\n",
       "      <th>003 Nordschule / Raum 00_03</th>\n",
       "      <td>777</td>\n",
       "      <td>272</td>\n",
       "      <td>2</td>\n",
       "      <td>270</td>\n",
       "      <td>31</td>\n",
       "      <td>39</td>\n",
       "      <td>70</td>\n",
       "      <td>20</td>\n",
       "      <td>41</td>\n",
       "      <td>45</td>\n",
       "      <td>16</td>\n",
       "      <td>7</td>\n",
       "      <td>1</td>\n",
       "    </tr>\n",
       "    <tr>\n",
       "      <th>004 WE Catering / Raum EG</th>\n",
       "      <td>1682</td>\n",
       "      <td>785</td>\n",
       "      <td>1</td>\n",
       "      <td>784</td>\n",
       "      <td>97</td>\n",
       "      <td>92</td>\n",
       "      <td>221</td>\n",
       "      <td>29</td>\n",
       "      <td>130</td>\n",
       "      <td>150</td>\n",
       "      <td>49</td>\n",
       "      <td>6</td>\n",
       "      <td>10</td>\n",
       "    </tr>\n",
       "    <tr>\n",
       "      <th>005 Volksbad-Anbau</th>\n",
       "      <td>1543</td>\n",
       "      <td>612</td>\n",
       "      <td>1</td>\n",
       "      <td>611</td>\n",
       "      <td>98</td>\n",
       "      <td>62</td>\n",
       "      <td>179</td>\n",
       "      <td>28</td>\n",
       "      <td>77</td>\n",
       "      <td>111</td>\n",
       "      <td>38</td>\n",
       "      <td>15</td>\n",
       "      <td>3</td>\n",
       "    </tr>\n",
       "  </tbody>\n",
       "</table>\n",
       "</div>"
      ],
      "text/plain": [
       "                               Wahlberechtigte  Wähler  ungültige Stimmen  \\\n",
       "Bezirk                                                                      \n",
       "001 Dezernat Stadtentwicklung             1685     615                  5   \n",
       "002 WE Catering / Raum OG                 1144     540                  3   \n",
       "003 Nordschule / Raum 00_03                777     272                  2   \n",
       "004 WE Catering / Raum EG                 1682     785                  1   \n",
       "005 Volksbad-Anbau                        1543     612                  1   \n",
       "\n",
       "                               gültige Stimmen  Benjamin Koppe  \\\n",
       "Bezirk                                                           \n",
       "001 Dezernat Stadtentwicklung              610              78   \n",
       "002 WE Catering / Raum OG                  537              66   \n",
       "003 Nordschule / Raum 00_03                270              31   \n",
       "004 WE Catering / Raum EG                  784              97   \n",
       "005 Volksbad-Anbau                         611              98   \n",
       "\n",
       "                               Martina Flämmich-Winckler  \\\n",
       "Bezirk                                                     \n",
       "001 Dezernat Stadtentwicklung                        112   \n",
       "002 WE Catering / Raum OG                             73   \n",
       "003 Nordschule / Raum 00_03                           39   \n",
       "004 WE Catering / Raum EG                             92   \n",
       "005 Volksbad-Anbau                                    62   \n",
       "\n",
       "                               Dr. Albrecht Schröter  Denny Jankowski  \\\n",
       "Bezirk                                                                  \n",
       "001 Dezernat Stadtentwicklung                    157               26   \n",
       "002 WE Catering / Raum OG                        182               19   \n",
       "003 Nordschule / Raum 00_03                       70               20   \n",
       "004 WE Catering / Raum EG                        221               29   \n",
       "005 Volksbad-Anbau                               179               28   \n",
       "\n",
       "                               Denis Peisker  Dr. Thomas Nitzsche  \\\n",
       "Bezirk                                                              \n",
       "001 Dezernat Stadtentwicklung             81                   86   \n",
       "002 WE Catering / Raum OG                 73                   88   \n",
       "003 Nordschule / Raum 00_03               41                   45   \n",
       "004 WE Catering / Raum EG                130                  150   \n",
       "005 Volksbad-Anbau                        77                  111   \n",
       "\n",
       "                               Dr. Heidrun Jänchen  Sandro Dreßler  \\\n",
       "Bezirk                                                               \n",
       "001 Dezernat Stadtentwicklung                   56               7   \n",
       "002 WE Catering / Raum OG                       29               5   \n",
       "003 Nordschule / Raum 00_03                     16               7   \n",
       "004 WE Catering / Raum EG                       49               6   \n",
       "005 Volksbad-Anbau                              38              15   \n",
       "\n",
       "                               Arne Petrich  \n",
       "Bezirk                                       \n",
       "001 Dezernat Stadtentwicklung             7  \n",
       "002 WE Catering / Raum OG                 2  \n",
       "003 Nordschule / Raum 00_03               1  \n",
       "004 WE Catering / Raum EG                10  \n",
       "005 Volksbad-Anbau                        3  "
      ]
     },
     "execution_count": 2,
     "metadata": {},
     "output_type": "execute_result"
    }
   ],
   "source": [
    "bm1 = load_pandas_bmwahl(\"bm01\")\n",
    "bm1.head(5)  # zeigt die ersten 5 Zeilen"
   ]
  },
  {
   "cell_type": "markdown",
   "metadata": {},
   "source": [
    "Um zu Prüfen, dass alles korrekt ist, vergleichen wir die akkumulierten Zahlen mit den Offiziellen von der Webseite."
   ]
  },
  {
   "cell_type": "code",
   "execution_count": 3,
   "metadata": {},
   "outputs": [
    {
     "data": {
      "text/plain": [
       "Wahlberechtigte              85401\n",
       "Wähler                       44946\n",
       "ungültige Stimmen              210\n",
       "gültige Stimmen              44736\n",
       "Benjamin Koppe                6314\n",
       "Martina Flämmich-Winckler     4999\n",
       "Dr. Albrecht Schröter        10965\n",
       "Denny Jankowski               3444\n",
       "Denis Peisker                 3377\n",
       "Dr. Thomas Nitzsche          12046\n",
       "Dr. Heidrun Jänchen           2076\n",
       "Sandro Dreßler                 918\n",
       "Arne Petrich                   597\n",
       "dtype: int64"
      ]
     },
     "execution_count": 3,
     "metadata": {},
     "output_type": "execute_result"
    }
   ],
   "source": [
    "bm1.sum()"
   ]
  },
  {
   "cell_type": "markdown",
   "metadata": {},
   "source": [
    "Und die Tabelle zur Stichwahl:"
   ]
  },
  {
   "cell_type": "code",
   "execution_count": 4,
   "metadata": {},
   "outputs": [
    {
     "data": {
      "text/plain": [
       "Wahlberechtigte          85220\n",
       "Wähler                   39775\n",
       "ungültige Stimmen          294\n",
       "gültige Stimmen          39481\n",
       "Dr. Albrecht Schröter    14499\n",
       "Dr. Thomas Nitzsche      24982\n",
       "dtype: int64"
      ]
     },
     "execution_count": 4,
     "metadata": {},
     "output_type": "execute_result"
    }
   ],
   "source": [
    "bm2 = load_pandas_bmwahl(\"bm02\")\n",
    "bm2.sum()"
   ]
  },
  {
   "cell_type": "code",
   "execution_count": null,
   "metadata": {},
   "outputs": [],
   "source": []
  },
  {
   "cell_type": "code",
   "execution_count": null,
   "metadata": {},
   "outputs": [],
   "source": []
  },
  {
   "cell_type": "code",
   "execution_count": 5,
   "metadata": {},
   "outputs": [],
   "source": [
    "from convert import NotebookConverter\n",
    "NotebookConverter(\"./bm-2018-jena-artikel.ipynb\").to_html_file(\"../bm-2018-jena-artikel.html\")"
   ]
  },
  {
   "cell_type": "code",
   "execution_count": null,
   "metadata": {},
   "outputs": [],
   "source": []
  }
 ],
 "metadata": {
  "kernelspec": {
   "display_name": "Python 3",
   "language": "python",
   "name": "python3"
  },
  "language_info": {
   "codemirror_mode": {
    "name": "ipython",
    "version": 3
   },
   "file_extension": ".py",
   "mimetype": "text/x-python",
   "name": "python",
   "nbconvert_exporter": "python",
   "pygments_lexer": "ipython3",
   "version": "3.5.2"
  }
 },
 "nbformat": 4,
 "nbformat_minor": 2
}
